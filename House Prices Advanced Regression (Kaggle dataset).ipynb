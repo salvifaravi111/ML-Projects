{
 "cells": [
  {
   "cell_type": "code",
   "execution_count": 50,
   "id": "5663c874",
   "metadata": {},
   "outputs": [],
   "source": [
    "import numpy as np\n",
    "import matplotlib.pyplot as plt\n",
    "import pandas as pd\n",
    "from matplotlib import style\n",
    "from matplotlib.legend_handler import HandlerBase\n",
    "import seaborn as sns\n",
    "\n",
    "from sklearn.model_selection import train_test_split, KFold, GridSearchCV\n",
    "from sklearn.preprocessing import MinMaxScaler, StandardScaler\n",
    "from sklearn.preprocessing import LabelEncoder\n",
    "\n",
    "from scipy import stats\n",
    "from scipy.stats import norm, skew\n",
    "\n",
    "import warnings\n",
    "warnings.filterwarnings('always')\n",
    "warnings.filterwarnings('ignore')\n",
    "\n",
    "from sklearn.linear_model import LinearRegression,Lasso,BayesianRidge\n",
    "from sklearn.svm import SVR\n",
    "from xgboost import XGBRegressor as XGBR\n",
    "from sklearn.metrics import mean_squared_log_error,mean_squared_error,r2_score,mean_absolute_error\n",
    "from sklearn.decomposition import PCA"
   ]
  },
  {
   "cell_type": "code",
   "execution_count": 2,
   "id": "d82eda4b",
   "metadata": {},
   "outputs": [],
   "source": [
    "train_data_path = 'Datasets\\\\train.csv'\n",
    "test_data_path = 'Datasets\\\\test.csv'"
   ]
  },
  {
   "cell_type": "code",
   "execution_count": 3,
   "id": "a87c97f5",
   "metadata": {},
   "outputs": [],
   "source": [
    "train_data = pd.read_csv(train_data_path)\n",
    "test_data = pd.read_csv(test_data_path)"
   ]
  },
  {
   "cell_type": "code",
   "execution_count": null,
   "id": "bedc1bcc",
   "metadata": {},
   "outputs": [],
   "source": [
    "print(train_data.shape)\n",
    "print(test_data.shape)"
   ]
  },
  {
   "cell_type": "code",
   "execution_count": 4,
   "id": "8c9e31f0",
   "metadata": {},
   "outputs": [
    {
     "name": "stdout",
     "output_type": "stream",
     "text": [
      "(1460, 81)\n"
     ]
    }
   ],
   "source": [
    "df = train_data.copy()\n",
    "print(df.shape)"
   ]
  },
  {
   "cell_type": "code",
   "execution_count": 5,
   "id": "93169e51",
   "metadata": {},
   "outputs": [],
   "source": [
    "#Keeping the id column as they need to exported with the data after preprocessing\n",
    "train_id = train_data['Id']\n",
    "test_id = test_data['Id']"
   ]
  },
  {
   "cell_type": "code",
   "execution_count": null,
   "id": "a2d4730a",
   "metadata": {},
   "outputs": [],
   "source": [
    "df.shape"
   ]
  },
  {
   "cell_type": "code",
   "execution_count": 6,
   "id": "5b3de294",
   "metadata": {},
   "outputs": [],
   "source": [
    "#Dropping the 'Id' columns as the DataFrames are already indexed\n",
    "df.drop(['Id'], axis=1, inplace=True)\n",
    "test_data.drop(['Id'], axis=1, inplace=True)"
   ]
  },
  {
   "cell_type": "code",
   "execution_count": null,
   "id": "620225be",
   "metadata": {},
   "outputs": [],
   "source": [
    "df.head(10)"
   ]
  },
  {
   "cell_type": "code",
   "execution_count": null,
   "id": "157e2b9a",
   "metadata": {},
   "outputs": [],
   "source": [
    "#missing value check\n",
    "df.isnull().sum().sort_values(ascending=False)[:20]"
   ]
  },
  {
   "cell_type": "code",
   "execution_count": 7,
   "id": "e82b3a08",
   "metadata": {},
   "outputs": [
    {
     "data": {
      "text/plain": [
       "(1460, 43)"
      ]
     },
     "execution_count": 7,
     "metadata": {},
     "output_type": "execute_result"
    }
   ],
   "source": [
    "cat_df = df.select_dtypes(include=[np.object])\n",
    "cat_df.shape"
   ]
  },
  {
   "cell_type": "code",
   "execution_count": null,
   "id": "71f0670f",
   "metadata": {},
   "outputs": [],
   "source": [
    "cat_df.head()"
   ]
  },
  {
   "cell_type": "code",
   "execution_count": null,
   "id": "cafc899d",
   "metadata": {},
   "outputs": [],
   "source": [
    "# list of the categorical columns\n",
    "cat_df.columns"
   ]
  },
  {
   "cell_type": "code",
   "execution_count": 8,
   "id": "7588a5e8",
   "metadata": {},
   "outputs": [
    {
     "data": {
      "text/plain": [
       "(1460, 37)"
      ]
     },
     "execution_count": 8,
     "metadata": {},
     "output_type": "execute_result"
    }
   ],
   "source": [
    "num_df = df.select_dtypes(include=[np.number])\n",
    "num_df.shape"
   ]
  },
  {
   "cell_type": "code",
   "execution_count": null,
   "id": "50380386",
   "metadata": {},
   "outputs": [],
   "source": [
    "num_df.columns"
   ]
  },
  {
   "cell_type": "code",
   "execution_count": 9,
   "id": "1f811525",
   "metadata": {},
   "outputs": [
    {
     "data": {
      "text/plain": [
       "Index(['LotFrontage', 'Alley', 'MasVnrType', 'MasVnrArea', 'BsmtQual',\n",
       "       'BsmtCond', 'BsmtExposure', 'BsmtFinType1', 'BsmtFinType2',\n",
       "       'Electrical', 'FireplaceQu', 'GarageType', 'GarageYrBlt',\n",
       "       'GarageFinish', 'GarageQual', 'GarageCond', 'PoolQC', 'Fence',\n",
       "       'MiscFeature'],\n",
       "      dtype='object')"
      ]
     },
     "execution_count": 9,
     "metadata": {},
     "output_type": "execute_result"
    }
   ],
   "source": [
    "#features with missing values\n",
    "nan_df = df.loc[:, df.isnull().any()]\n",
    "nan_df.columns"
   ]
  },
  {
   "cell_type": "code",
   "execution_count": 10,
   "id": "a13e1890",
   "metadata": {},
   "outputs": [
    {
     "data": {
      "text/plain": [
       "(2919, 81)"
      ]
     },
     "execution_count": 10,
     "metadata": {},
     "output_type": "execute_result"
    }
   ],
   "source": [
    "#merging train and test sets\n",
    "all_data = pd.concat([train_data, test_data])\n",
    "all_data.shape"
   ]
  },
  {
   "cell_type": "code",
   "execution_count": 11,
   "id": "5863a19a",
   "metadata": {},
   "outputs": [],
   "source": [
    "all_data = all_data.reset_index(drop=True)"
   ]
  },
  {
   "cell_type": "code",
   "execution_count": null,
   "id": "3ead1aca",
   "metadata": {},
   "outputs": [],
   "source": [
    "all_data.head(10)"
   ]
  },
  {
   "cell_type": "code",
   "execution_count": null,
   "id": "52b3ce9e",
   "metadata": {},
   "outputs": [],
   "source": [
    "df.shape"
   ]
  },
  {
   "cell_type": "code",
   "execution_count": 12,
   "id": "d2bfa430",
   "metadata": {},
   "outputs": [],
   "source": [
    "all_data.drop(['SalePrice'], axis=1, inplace=True)"
   ]
  },
  {
   "cell_type": "code",
   "execution_count": null,
   "id": "bc44b745",
   "metadata": {},
   "outputs": [],
   "source": [
    "all_data.shape"
   ]
  },
  {
   "cell_type": "code",
   "execution_count": null,
   "id": "a29a361a",
   "metadata": {},
   "outputs": [],
   "source": [
    "#analyzing target variable saleprice\n",
    "sns.distplot(a=df['SalePrice'], color='#ff4125', axlabel=False).set_title('Sale Price')"
   ]
  },
  {
   "cell_type": "code",
   "execution_count": null,
   "id": "7c694675",
   "metadata": {},
   "outputs": [],
   "source": [
    "#Get also the qq-plot (the quantile-quantile plot)\n",
    "#The quantile-quantile (q-q) plot is a graphical technique \n",
    "#for determining if two data sets come from populations with a common distribution.\n",
    "\n",
    "fig = plt.figure()\n",
    "res = stats.probplot(train_data['SalePrice'], plot=plt)\n",
    "plt.show()"
   ]
  },
  {
   "cell_type": "code",
   "execution_count": 13,
   "id": "aa85811c",
   "metadata": {},
   "outputs": [],
   "source": [
    "#taking log transofrm of the target saleprice\n",
    "df['SalePrice'] = np.log1p(df['SalePrice'])"
   ]
  },
  {
   "cell_type": "code",
   "execution_count": null,
   "id": "80cc5b51",
   "metadata": {},
   "outputs": [],
   "source": [
    "df.shape"
   ]
  },
  {
   "cell_type": "code",
   "execution_count": null,
   "id": "d6a3b7fe",
   "metadata": {},
   "outputs": [],
   "source": [
    "sns.distplot(a=df['SalePrice'], color='#ff4125', axlabel=False).set_title('log(1+Sale Price)')"
   ]
  },
  {
   "cell_type": "code",
   "execution_count": 14,
   "id": "cf766dcd",
   "metadata": {},
   "outputs": [],
   "source": [
    "#Understanding the correlation here.\n",
    "#which value effect the target the most needs to be known\n",
    "\n",
    "cor_mat = df[:].corr()\n",
    "cor_with_target = cor_mat.sort_values(['SalePrice'], ascending=False)"
   ]
  },
  {
   "cell_type": "code",
   "execution_count": null,
   "id": "532a6c35",
   "metadata": {},
   "outputs": [],
   "source": [
    "print('Correlation with target SalePrice:')\n",
    "cor_with_target.SalePrice"
   ]
  },
  {
   "cell_type": "code",
   "execution_count": 15,
   "id": "8441009a",
   "metadata": {},
   "outputs": [
    {
     "data": {
      "text/plain": [
       "<AxesSubplot:>"
      ]
     },
     "execution_count": 15,
     "metadata": {},
     "output_type": "execute_result"
    },
    {
     "data": {
      "image/png": "[encoded data removed]",
      "text/plain": [
       "<Figure size 2160x864 with 2 Axes>"
      ]
     },
     "metadata": {
      "needs_background": "light"
     },
     "output_type": "display_data"
    }
   ],
   "source": [
    "#using a corelation map to visualize features with high corelation.\n",
    "#The columns were selected based on the correlation values\n",
    "\n",
    "cor_mat= df[['OverallQual','GrLivArea','GarageCars','GarageArea','TotalBsmtSF','1stFlrSF','FullBath',\n",
    "             'YearBuilt','YearRemodAdd','GarageYrBlt','TotRmsAbvGrd','SalePrice']].corr()\n",
    "mask = np.array(cor_mat)\n",
    "mask[np.tril_indices_from(mask)] = False\n",
    "fig = plt.gcf()\n",
    "fig.set_size_inches(30, 12)\n",
    "sns.heatmap(data=cor_mat, mask=mask, square=True, annot=True, cbar=True)"
   ]
  },
  {
   "cell_type": "code",
   "execution_count": null,
   "id": "28f09233",
   "metadata": {},
   "outputs": [],
   "source": [
    "#performing univariate analysis on features with high corelation with target variabale\n",
    "\n",
    "def plot_numeric(feature):\n",
    "    fig,axes = plt.subplots(1,2)\n",
    "    sns.boxplot(data=df, x=feature, ax=axes[0])\n",
    "    sns.distplot(a=df[feature], ax=axes[1], color='#ff4125')\n",
    "    fig.set_size_inches(15,5)"
   ]
  },
  {
   "cell_type": "code",
   "execution_count": null,
   "id": "62359022",
   "metadata": {},
   "outputs": [],
   "source": [
    "plot_numeric('GrLivArea')"
   ]
  },
  {
   "cell_type": "code",
   "execution_count": null,
   "id": "06e6e775",
   "metadata": {},
   "outputs": [],
   "source": [
    "plot_numeric('GarageArea')"
   ]
  },
  {
   "cell_type": "code",
   "execution_count": null,
   "id": "82d489bc",
   "metadata": {},
   "outputs": [],
   "source": [
    "plot_numeric('TotalBsmtSF')"
   ]
  },
  {
   "cell_type": "code",
   "execution_count": null,
   "id": "66d71fb1",
   "metadata": {},
   "outputs": [],
   "source": [
    "plot_numeric('1stFlrSF')"
   ]
  },
  {
   "cell_type": "code",
   "execution_count": null,
   "id": "b2165651",
   "metadata": {},
   "outputs": [],
   "source": [
    "def plot_categorical(feature):\n",
    "    plt.figure(figsize=(15,5))\n",
    "    sns.countplot(data=df, x=feature)\n",
    "    ax=sns.countplot(data=df, x=feature)"
   ]
  },
  {
   "cell_type": "code",
   "execution_count": null,
   "id": "27cf72bb",
   "metadata": {},
   "outputs": [],
   "source": [
    "plot_categorical('OverallQual')"
   ]
  },
  {
   "cell_type": "code",
   "execution_count": null,
   "id": "1ca7fed0",
   "metadata": {},
   "outputs": [],
   "source": [
    "plot_categorical('FullBath')"
   ]
  },
  {
   "cell_type": "code",
   "execution_count": null,
   "id": "0342346f",
   "metadata": {},
   "outputs": [],
   "source": [
    "plot_categorical('YearBuilt')"
   ]
  },
  {
   "cell_type": "code",
   "execution_count": null,
   "id": "070c0f5b",
   "metadata": {},
   "outputs": [],
   "source": [
    "plot_categorical('TotRmsAbvGrd')"
   ]
  },
  {
   "cell_type": "code",
   "execution_count": null,
   "id": "a8a0d5f5",
   "metadata": {},
   "outputs": [],
   "source": [
    "plot_categorical('GarageCars')"
   ]
  },
  {
   "cell_type": "code",
   "execution_count": null,
   "id": "1e0ea468",
   "metadata": {},
   "outputs": [],
   "source": [
    "#Features that are numerical here (GarageCars), are actually categorical and seems if they have been label encoded"
   ]
  },
  {
   "cell_type": "code",
   "execution_count": null,
   "id": "57dfed7c",
   "metadata": {},
   "outputs": [],
   "source": [
    "sns.factorplot(data=df, x='Neighborhood', kind='count', size=10, aspect=2.5)"
   ]
  },
  {
   "cell_type": "code",
   "execution_count": null,
   "id": "87f13ae2",
   "metadata": {},
   "outputs": [],
   "source": [
    "#bivariate analysis is now done plotting various categorical and numeric features against target 'SalePrice'"
   ]
  },
  {
   "cell_type": "code",
   "execution_count": null,
   "id": "164f73a1",
   "metadata": {},
   "outputs": [],
   "source": [
    "fig, ax = plt.subplots()\n",
    "ax.scatter(x=df['GrLivArea'], y=df['SalePrice'])\n",
    "plt.xlabel('GrLivArea')\n",
    "plt.ylabel('SalePrice')\n",
    "plt.show()"
   ]
  },
  {
   "cell_type": "code",
   "execution_count": null,
   "id": "6059da5b",
   "metadata": {},
   "outputs": [],
   "source": [
    "df.shape"
   ]
  },
  {
   "cell_type": "code",
   "execution_count": 16,
   "id": "c058fe22",
   "metadata": {},
   "outputs": [],
   "source": [
    "#removing two outliers on the right\n",
    "df = df.drop(df[(df['GrLivArea'] > 4000) & (df['SalePrice'] < 13)].index)"
   ]
  },
  {
   "cell_type": "code",
   "execution_count": null,
   "id": "bb0006c0",
   "metadata": {},
   "outputs": [],
   "source": [
    "fig, ax = plt.subplots()\n",
    "ax.scatter(x=df['GrLivArea'], y=df['SalePrice'])\n",
    "plt.xlabel('GrLivArea')\n",
    "plt.ylabel('SalePrice')\n",
    "plt.show()"
   ]
  },
  {
   "cell_type": "code",
   "execution_count": null,
   "id": "47edac17",
   "metadata": {},
   "outputs": [],
   "source": [
    "#garage area\n",
    "fig, ax = plt.subplots()\n",
    "ax.scatter(x=df['GarageArea'], y=df['SalePrice'])\n",
    "plt.xlabel('GarageArea')\n",
    "plt.ylabel('SalePrice')\n",
    "plt.show()"
   ]
  },
  {
   "cell_type": "code",
   "execution_count": null,
   "id": "63c27b58",
   "metadata": {},
   "outputs": [],
   "source": [
    "#basement area\n",
    "fig, ax = plt.subplots()\n",
    "ax.scatter(x=df['TotalBsmtSF'], y=df['SalePrice'])\n",
    "plt.xlabel('TotalBsmtSF')\n",
    "plt.ylabel('SalePrice')\n",
    "plt.show()"
   ]
  },
  {
   "cell_type": "code",
   "execution_count": null,
   "id": "7efa8a79",
   "metadata": {},
   "outputs": [],
   "source": [
    "#1st floor area\n",
    "fig, ax = plt.subplots()\n",
    "ax.scatter(x=df['1stFlrSF'], y=df['SalePrice'])\n",
    "plt.xlabel('1stFlrSF')\n",
    "plt.ylabel('SalePrice')\n",
    "plt.show()"
   ]
  },
  {
   "cell_type": "code",
   "execution_count": null,
   "id": "58998a99",
   "metadata": {},
   "outputs": [],
   "source": [
    "#overall qual\n",
    "sns.factorplot(data=df, x='OverallQual', y='SalePrice', kind='box', size=5, aspect=2.5)"
   ]
  },
  {
   "cell_type": "code",
   "execution_count": null,
   "id": "95bd742c",
   "metadata": {},
   "outputs": [],
   "source": [
    "#garage cars\n",
    "sns.factorplot(data=df, x='GarageCars', y='SalePrice', kind='box', size=5, aspect=2.5)"
   ]
  },
  {
   "cell_type": "code",
   "execution_count": null,
   "id": "c9b5685b",
   "metadata": {},
   "outputs": [],
   "source": [
    "#no of rooms\n",
    "sns.factorplot(data=df, x='TotRmsAbvGrd', y='SalePrice', kind='bar', size=5, aspect=2.5)"
   ]
  },
  {
   "cell_type": "code",
   "execution_count": null,
   "id": "5aef0472",
   "metadata": {},
   "outputs": [],
   "source": [
    "#neighborhood\n",
    "sns.factorplot(data=df, x='Neighborhood', y='SalePrice', kind='box', size=10, aspect=1.5)"
   ]
  },
  {
   "cell_type": "code",
   "execution_count": null,
   "id": "b3380a42",
   "metadata": {},
   "outputs": [],
   "source": [
    "#sale condition\n",
    "sns.factorplot(data=df, x='SaleCondition', y='SalePrice', kind='box', size=10, aspect=2.5)"
   ]
  },
  {
   "cell_type": "code",
   "execution_count": 17,
   "id": "5b22f2e5",
   "metadata": {},
   "outputs": [
    {
     "name": "stdout",
     "output_type": "stream",
     "text": [
      "              Missing Ratio\n",
      "PoolQC                 2909\n",
      "MiscFeature            2814\n",
      "Alley                  2721\n",
      "Fence                  2348\n",
      "Id                     1459\n",
      "FireplaceQu            1420\n",
      "LotFrontage             486\n",
      "GarageCond              159\n",
      "GarageFinish            159\n",
      "GarageQual              159\n",
      "GarageYrBlt             159\n",
      "GarageType              157\n",
      "BsmtExposure             82\n",
      "BsmtCond                 82\n",
      "BsmtQual                 81\n",
      "BsmtFinType2             80\n",
      "BsmtFinType1             79\n",
      "MasVnrType               24\n",
      "MasVnrArea               23\n",
      "MSZoning                  4\n",
      "BsmtFullBath              2\n",
      "BsmtHalfBath              2\n",
      "Functional                2\n",
      "Utilities                 2\n",
      "GarageArea                1\n",
      "GarageCars                1\n",
      "TotalBsmtSF               1\n",
      "KitchenQual               1\n",
      "Electrical                1\n",
      "BsmtUnfSF                 1\n",
      "BsmtFinSF2                1\n",
      "BsmtFinSF1                1\n",
      "Exterior2nd               1\n",
      "Exterior1st               1\n",
      "SaleType                  1\n"
     ]
    }
   ],
   "source": [
    "nan_all_data = (all_data.isnull().sum())\n",
    "nan_all_data = nan_all_data.drop(nan_all_data[nan_all_data == 0].index).sort_values(ascending=False)\n",
    "miss_df = pd.DataFrame({'Missing Ratio' : nan_all_data})\n",
    "print(miss_df)"
   ]
  },
  {
   "cell_type": "code",
   "execution_count": 18,
   "id": "7dd79cca",
   "metadata": {},
   "outputs": [],
   "source": [
    "#deleting features with high number of missing values\n",
    "all_data.drop(['PoolQC','Alley','Fence','Id','MiscFeature'],axis=1,inplace=True)\n",
    "all_data.columns\n",
    "test_data.drop(['PoolQC','Alley','Fence','MiscFeature'],axis=1,inplace=True)\n",
    "df.drop(['PoolQC','Alley','Fence','MiscFeature'],axis=1,inplace=True)"
   ]
  },
  {
   "cell_type": "code",
   "execution_count": 19,
   "id": "9453f53d",
   "metadata": {},
   "outputs": [],
   "source": [
    "all_data.drop(['FireplaceQu'],axis=1,inplace=True)\n",
    "test_data.drop(['FireplaceQu'],axis=1,inplace=True)\n",
    "df.drop(['FireplaceQu'],axis=1,inplace=True)"
   ]
  },
  {
   "cell_type": "code",
   "execution_count": null,
   "id": "a6896f73",
   "metadata": {},
   "outputs": [],
   "source": [
    "#Lot Frontage\n",
    "print(df['LotFrontage'].dtype)\n",
    "plt.scatter(x=np.log1p(df['LotFrontage']), y=df['SalePrice'])\n",
    "cr = df.corr()\n",
    "print(df['LotFrontage'].describe())\n",
    "print('Correlation with Target :', cr.loc['LotFrontage', 'SalePrice'])"
   ]
  },
  {
   "cell_type": "code",
   "execution_count": 20,
   "id": "fbce389b",
   "metadata": {},
   "outputs": [
    {
     "data": {
      "text/plain": [
       "0"
      ]
     },
     "execution_count": 20,
     "metadata": {},
     "output_type": "execute_result"
    }
   ],
   "source": [
    "#Above analysis shows that there are some relation of LotFrontage with the sale price both by scatter plot and also by the\n",
    "#correlation value. Therefore, instead of deleting lets fill the values with the mean\n",
    "\n",
    "all_data['LotFrontage'].fillna(np.mean(all_data['LotFrontage']),inplace=True)\n",
    "all_data['LotFrontage'].isnull().sum()"
   ]
  },
  {
   "cell_type": "code",
   "execution_count": 21,
   "id": "edfa4387",
   "metadata": {},
   "outputs": [
    {
     "name": "stdout",
     "output_type": "stream",
     "text": [
      "0\n",
      "0\n",
      "0\n",
      "0\n",
      "0\n",
      "0\n",
      "0\n"
     ]
    }
   ],
   "source": [
    "all_data['GarageYrBlt'].fillna(0, inplace=True)\n",
    "print(all_data['GarageYrBlt'].isnull().sum())\n",
    "\n",
    "all_data['GarageArea'].fillna(0, inplace=True)\n",
    "print(all_data['GarageArea'].isnull().sum())\n",
    "\n",
    "all_data['GarageCars'].fillna(0, inplace=True)\n",
    "print(all_data['GarageCars'].isnull().sum())\n",
    "\n",
    "all_data['GarageQual'].fillna('None', inplace=True)\n",
    "print(all_data['GarageQual'].isnull().sum())\n",
    "\n",
    "all_data['GarageFinish'].fillna('None', inplace=True)\n",
    "print(all_data['GarageFinish'].isnull().sum())\n",
    "\n",
    "all_data['GarageCond'].fillna('None', inplace=True)\n",
    "print(all_data['GarageCond'].isnull().sum())\n",
    "\n",
    "all_data['GarageType'].fillna('None', inplace=True)\n",
    "print(all_data['GarageType'].isnull().sum())"
   ]
  },
  {
   "cell_type": "code",
   "execution_count": 22,
   "id": "3aa4dbf3",
   "metadata": {},
   "outputs": [
    {
     "name": "stdout",
     "output_type": "stream",
     "text": [
      "0\n"
     ]
    }
   ],
   "source": [
    "#basement related features\n",
    "for col in ('BsmtFinSF1', 'BsmtFinSF2', 'BsmtUnfSF','TotalBsmtSF', 'BsmtFullBath', 'BsmtHalfBath'):\n",
    "    all_data[col].fillna(0,inplace=True)\n",
    "\n",
    "for col in ('BsmtQual', 'BsmtCond', 'BsmtExposure', 'BsmtFinType1', 'BsmtFinType2'):\n",
    "    all_data[col].fillna('None',inplace=True)\n",
    "print(all_data['TotalBsmtSF'].isnull().sum())"
   ]
  },
  {
   "cell_type": "code",
   "execution_count": 23,
   "id": "8c891f48",
   "metadata": {},
   "outputs": [],
   "source": [
    "#MasVnrArea 0 and MasVnrType 'None'\n",
    "all_data['MasVnrArea'].fillna(0,inplace=True)\n",
    "all_data['MasVnrType'].fillna('None',inplace=True)"
   ]
  },
  {
   "cell_type": "code",
   "execution_count": 24,
   "id": "11e951d7",
   "metadata": {},
   "outputs": [
    {
     "name": "stdout",
     "output_type": "stream",
     "text": [
      "0\n"
     ]
    }
   ],
   "source": [
    "#MSZoning\n",
    "# Here nan does not mean no so replacing with the most common one ie the mode\n",
    "all_data['MSZoning'].fillna(all_data['MSZoning'].mode()[0],inplace=True)\n",
    "print(all_data['MSZoning'].isnull().sum())"
   ]
  },
  {
   "cell_type": "code",
   "execution_count": null,
   "id": "e9961d01",
   "metadata": {},
   "outputs": [],
   "source": [
    "#utilities\n",
    "sns.factorplot(data=df, kind='box', x='Utilities', y='SalePrice', size=5, aspect=2.5)"
   ]
  },
  {
   "cell_type": "code",
   "execution_count": 25,
   "id": "95f6fce2",
   "metadata": {},
   "outputs": [],
   "source": [
    "#That training set has only 2 of the possible 4 categories (ALLPub and NoSeWa) while test set has other categories. \n",
    "#Hence it is of no use\n",
    "all_data.drop(['Utilities'],axis=1,inplace=True)"
   ]
  },
  {
   "cell_type": "code",
   "execution_count": 26,
   "id": "cc996fa1",
   "metadata": {},
   "outputs": [],
   "source": [
    "#functional fill with mode\n",
    "all_data['Functional'].fillna(all_data['Functional'].mode()[0],inplace=True)"
   ]
  },
  {
   "cell_type": "code",
   "execution_count": null,
   "id": "fcb967f5",
   "metadata": {},
   "outputs": [],
   "source": [
    "print(all_data['Functional'].isnull().sum())"
   ]
  },
  {
   "cell_type": "code",
   "execution_count": 27,
   "id": "30112263",
   "metadata": {},
   "outputs": [
    {
     "name": "stdout",
     "output_type": "stream",
     "text": [
      "0\n",
      "0\n",
      "0\n",
      "0\n",
      "0\n"
     ]
    }
   ],
   "source": [
    "# other remaining columns are all categorical, like kitchen qual etc.. and so filled with mode\n",
    "for col in ['SaleType','KitchenQual','Exterior2nd','Exterior1st','Electrical']:\n",
    "    all_data[col].fillna(all_data[col].mode()[0],inplace=True)\n",
    "    print(all_data[col].isnull().sum())"
   ]
  },
  {
   "cell_type": "code",
   "execution_count": 28,
   "id": "5ebd216b",
   "metadata": {},
   "outputs": [
    {
     "name": "stdout",
     "output_type": "stream",
     "text": [
      "Empty DataFrame\n",
      "Columns: [Missing Ratio]\n",
      "Index: []\n"
     ]
    }
   ],
   "source": [
    "#checking if any null values remaining\n",
    "nan_all_data = (all_data.isnull().sum())\n",
    "nan_all_data = nan_all_data.drop(nan_all_data[nan_all_data == 0].index).sort_values(ascending=False)\n",
    "miss_df = pd.DataFrame({'Missing Ratio' : nan_all_data})\n",
    "print(miss_df)"
   ]
  },
  {
   "cell_type": "code",
   "execution_count": null,
   "id": "8a1e3885",
   "metadata": {},
   "outputs": [],
   "source": [
    "miss_df"
   ]
  },
  {
   "cell_type": "code",
   "execution_count": null,
   "id": "560d86ab",
   "metadata": {},
   "outputs": [],
   "source": [
    "all_data.shape"
   ]
  },
  {
   "cell_type": "code",
   "execution_count": 29,
   "id": "c7069623",
   "metadata": {},
   "outputs": [],
   "source": [
    "#log transform skewed numeric features\n",
    "numeric_feats = all_data.dtypes[all_data.dtypes != \"object\"].index\n",
    "skewed_feats = train_data[numeric_feats].apply(lambda x: skew(x.dropna()))\n",
    "skewed_feats = skewed_feats[skewed_feats > 0.50]\n",
    "skewed_feats = skewed_feats.index\n",
    "all_data[skewed_feats] = np.log1p(all_data[skewed_feats])"
   ]
  },
  {
   "cell_type": "code",
   "execution_count": 30,
   "id": "1f7d1735",
   "metadata": {},
   "outputs": [],
   "source": [
    "#labelencode categorical features\n",
    "for col in all_data.columns:\n",
    "    if all_data[col].dtype == 'object':\n",
    "        le = LabelEncoder()\n",
    "        all_data[col] = le.fit_transform(all_data[col])"
   ]
  },
  {
   "cell_type": "code",
   "execution_count": 31,
   "id": "9dd584bb",
   "metadata": {},
   "outputs": [],
   "source": [
    "train = all_data[:1460]\n",
    "test = all_data[1460:]"
   ]
  },
  {
   "cell_type": "code",
   "execution_count": null,
   "id": "86798ff6",
   "metadata": {},
   "outputs": [],
   "source": [
    "test.shape"
   ]
  },
  {
   "cell_type": "code",
   "execution_count": 32,
   "id": "4d6b1940",
   "metadata": {},
   "outputs": [
    {
     "data": {
      "text/plain": [
       "(1460, 74)"
      ]
     },
     "execution_count": 32,
     "metadata": {},
     "output_type": "execute_result"
    }
   ],
   "source": [
    "train['SalePrice'] = df['SalePrice']\n",
    "train['SalePrice'].fillna(np.mean(train['SalePrice']),inplace=True)\n",
    "train.shape"
   ]
  },
  {
   "cell_type": "code",
   "execution_count": null,
   "id": "c2deba40",
   "metadata": {},
   "outputs": [],
   "source": [
    "print(train['SalePrice'].isnull().sum())"
   ]
  },
  {
   "cell_type": "code",
   "execution_count": 33,
   "id": "04a092cf",
   "metadata": {},
   "outputs": [],
   "source": [
    "train.reset_index(inplace=True)\n",
    "test.reset_index(inplace=True)"
   ]
  },
  {
   "cell_type": "code",
   "execution_count": 34,
   "id": "121b1933",
   "metadata": {},
   "outputs": [],
   "source": [
    "train = pd.concat([train_id, train], axis=1)\n",
    "test = pd.concat([test_id, test], axis=1)"
   ]
  },
  {
   "cell_type": "code",
   "execution_count": 35,
   "id": "6d9d70fa",
   "metadata": {},
   "outputs": [],
   "source": [
    "EXPORTED_TRAIN_DATA_PATH = 'Datasets\\\\preprocessed_train.csv'\n",
    "EXPORTED_TEST_DATA_PATH = 'Datasets\\\\preprocessed_test.csv'"
   ]
  },
  {
   "cell_type": "code",
   "execution_count": 36,
   "id": "86c8971b",
   "metadata": {},
   "outputs": [],
   "source": [
    "train.to_csv(EXPORTED_TRAIN_DATA_PATH, index=False)\n",
    "test.to_csv(EXPORTED_TEST_DATA_PATH, index=False)"
   ]
  },
  {
   "cell_type": "code",
   "execution_count": 37,
   "id": "aa9e4590",
   "metadata": {},
   "outputs": [],
   "source": [
    "train_data_path = 'Datasets\\\\preprocessed_train.csv'\n",
    "test_data_path = 'Datasets\\\\preprocessed_test.csv'"
   ]
  },
  {
   "cell_type": "code",
   "execution_count": 38,
   "id": "af844719",
   "metadata": {},
   "outputs": [],
   "source": [
    "dataset = pd.read_csv(train_data_path)"
   ]
  },
  {
   "cell_type": "code",
   "execution_count": 39,
   "id": "da0f1ed7",
   "metadata": {},
   "outputs": [],
   "source": [
    "dataset = dataset.drop(dataset[(dataset['GrLivArea'] > 8.4) & (dataset['SalePrice'] < 13)].index)"
   ]
  },
  {
   "cell_type": "code",
   "execution_count": null,
   "id": "a9cee867",
   "metadata": {},
   "outputs": [],
   "source": [
    "dataset.shape"
   ]
  },
  {
   "cell_type": "code",
   "execution_count": null,
   "id": "0565d61c",
   "metadata": {},
   "outputs": [],
   "source": [
    "fig, ax = plt.subplots()\n",
    "ax.scatter(x=dataset['GrLivArea'], y=dataset['SalePrice'])\n",
    "plt.xlabel('GrLivArea')\n",
    "plt.ylabel('SalePrice')\n",
    "plt.show()"
   ]
  },
  {
   "cell_type": "code",
   "execution_count": 40,
   "id": "998312f8",
   "metadata": {},
   "outputs": [],
   "source": [
    "label = df['SalePrice']"
   ]
  },
  {
   "cell_type": "code",
   "execution_count": null,
   "id": "99a3e7d1",
   "metadata": {},
   "outputs": [],
   "source": [
    "label.size"
   ]
  },
  {
   "cell_type": "code",
   "execution_count": 41,
   "id": "e63369f5",
   "metadata": {},
   "outputs": [],
   "source": [
    "dataset.drop(['SalePrice'],axis=1,inplace=True)"
   ]
  },
  {
   "cell_type": "code",
   "execution_count": null,
   "id": "7f89500e",
   "metadata": {},
   "outputs": [],
   "source": [
    "dataset.shape"
   ]
  },
  {
   "cell_type": "code",
   "execution_count": 42,
   "id": "42d829a9",
   "metadata": {},
   "outputs": [],
   "source": [
    "train_data, test_data, train_label, test_label = train_test_split(dataset, label, test_size=0.2)"
   ]
  },
  {
   "cell_type": "code",
   "execution_count": null,
   "id": "63479538",
   "metadata": {},
   "outputs": [],
   "source": []
  },
  {
   "cell_type": "code",
   "execution_count": 43,
   "id": "c23bad54",
   "metadata": {},
   "outputs": [],
   "source": [
    "#using standard scaler to normalize the training data\n",
    "Scaler = StandardScaler()\n",
    "\n",
    "#using principal component analysis to reduce the dimensionality of the features\n",
    "pca = PCA(n_components=36)\n",
    "train_data = Scaler.fit_transform(train_data)\n",
    "test_data = Scaler.transform(test_data)\n",
    "\n",
    "train_data = pca.fit_transform(train_data)\n",
    "test_data = pca.transform(test_data)"
   ]
  },
  {
   "cell_type": "code",
   "execution_count": null,
   "id": "0fe3da22",
   "metadata": {},
   "outputs": [],
   "source": []
  },
  {
   "cell_type": "code",
   "execution_count": null,
   "id": "378b55d9",
   "metadata": {},
   "outputs": [],
   "source": [
    "train_data.shape"
   ]
  },
  {
   "cell_type": "code",
   "execution_count": null,
   "id": "3af91200",
   "metadata": {},
   "outputs": [],
   "source": []
  },
  {
   "cell_type": "code",
   "execution_count": 44,
   "id": "0daf5737",
   "metadata": {},
   "outputs": [],
   "source": [
    "def rmse(predictions, labels):\n",
    "    return np.sqrt(mean_squared_error(predictions, labels))"
   ]
  },
  {
   "cell_type": "code",
   "execution_count": null,
   "id": "dc2a7341",
   "metadata": {},
   "outputs": [],
   "source": []
  },
  {
   "cell_type": "code",
   "execution_count": 45,
   "id": "b6d909bd",
   "metadata": {},
   "outputs": [],
   "source": [
    "#Creating a dictionary of models. These models are referenced with their default parameters\n",
    "\n",
    "models = {\n",
    "    'XGBRegressor': XGBR(),\n",
    "    'LinearRegressor': LinearRegression(),\n",
    "    'NaiveBayes': BayesianRidge(),\n",
    "    'SVM': SVR(),\n",
    "    'Lasso': Lasso(),\n",
    "}"
   ]
  },
  {
   "cell_type": "code",
   "execution_count": null,
   "id": "9c8d866c",
   "metadata": {},
   "outputs": [],
   "source": []
  },
  {
   "cell_type": "code",
   "execution_count": null,
   "id": "4a3452db",
   "metadata": {},
   "outputs": [],
   "source": []
  },
  {
   "cell_type": "code",
   "execution_count": 46,
   "id": "762203dd",
   "metadata": {},
   "outputs": [],
   "source": [
    "def predict_models(models, train_data, train_label, test_data, test_label):\n",
    "    row = 0\n",
    "    results = pd.DataFrame()\n",
    "    \n",
    "    for name,model in models.items():\n",
    "        model.fit(train_data, train_label)\n",
    "        score = model.score(train_data, train_label)\n",
    "        predictions = model.predict(test_data)\n",
    "        results.loc[row, 'Model'] = name\n",
    "        results.loc[row, 'Score'] = score\n",
    "        results.loc[row, 'Log-RMSE'] = rmse(predictions, test_label)\n",
    "        results.loc[row, 'RMSE'] = rmse(np.expm1(predictions), np.expm1(test_label))\n",
    "        \n",
    "        row += 1\n",
    "    return results"
   ]
  },
  {
   "cell_type": "code",
   "execution_count": 47,
   "id": "0ef4926a",
   "metadata": {},
   "outputs": [
    {
     "data": {
      "text/html": [
       "<div>\n",
       "<style scoped>\n",
       "    .dataframe tbody tr th:only-of-type {\n",
       "        vertical-align: middle;\n",
       "    }\n",
       "\n",
       "    .dataframe tbody tr th {\n",
       "        vertical-align: top;\n",
       "    }\n",
       "\n",
       "    .dataframe thead th {\n",
       "        text-align: right;\n",
       "    }\n",
       "</style>\n",
       "<table border=\"1\" class=\"dataframe\">\n",
       "  <thead>\n",
       "    <tr style=\"text-align: right;\">\n",
       "      <th></th>\n",
       "      <th>Model</th>\n",
       "      <th>Score</th>\n",
       "      <th>Log-RMSE</th>\n",
       "      <th>RMSE</th>\n",
       "    </tr>\n",
       "  </thead>\n",
       "  <tbody>\n",
       "    <tr>\n",
       "      <th>0</th>\n",
       "      <td>XGBRegressor</td>\n",
       "      <td>0.999971</td>\n",
       "      <td>0.174073</td>\n",
       "      <td>34138.471575</td>\n",
       "    </tr>\n",
       "    <tr>\n",
       "      <th>1</th>\n",
       "      <td>LinearRegressor</td>\n",
       "      <td>0.899975</td>\n",
       "      <td>0.149199</td>\n",
       "      <td>28981.359147</td>\n",
       "    </tr>\n",
       "    <tr>\n",
       "      <th>2</th>\n",
       "      <td>NaiveBayes</td>\n",
       "      <td>0.899950</td>\n",
       "      <td>0.149289</td>\n",
       "      <td>29059.566371</td>\n",
       "    </tr>\n",
       "    <tr>\n",
       "      <th>3</th>\n",
       "      <td>SVM</td>\n",
       "      <td>0.959162</td>\n",
       "      <td>0.174653</td>\n",
       "      <td>34968.599164</td>\n",
       "    </tr>\n",
       "    <tr>\n",
       "      <th>4</th>\n",
       "      <td>Lasso</td>\n",
       "      <td>0.189804</td>\n",
       "      <td>0.370685</td>\n",
       "      <td>77191.567832</td>\n",
       "    </tr>\n",
       "  </tbody>\n",
       "</table>\n",
       "</div>"
      ],
      "text/plain": [
       "             Model     Score  Log-RMSE          RMSE\n",
       "0     XGBRegressor  0.999971  0.174073  34138.471575\n",
       "1  LinearRegressor  0.899975  0.149199  28981.359147\n",
       "2       NaiveBayes  0.899950  0.149289  29059.566371\n",
       "3              SVM  0.959162  0.174653  34968.599164\n",
       "4            Lasso  0.189804  0.370685  77191.567832"
      ]
     },
     "execution_count": 47,
     "metadata": {},
     "output_type": "execute_result"
    }
   ],
   "source": [
    "predict_models(models, train_data, train_label, test_data, test_label)"
   ]
  },
  {
   "cell_type": "code",
   "execution_count": null,
   "id": "5a741121",
   "metadata": {},
   "outputs": [],
   "source": [
    "#GridSearch best parameters for XGBoost and Lasso"
   ]
  },
  {
   "cell_type": "code",
   "execution_count": 51,
   "id": "a2b50f3a",
   "metadata": {},
   "outputs": [
    {
     "name": "stdout",
     "output_type": "stream",
     "text": [
      "Fitting 2 folds for each of 1125 candidates, totalling 2250 fits\n",
      "[16:22:57] WARNING: C:/Users/administrator/workspace/xgboost-win64_release_1.6.0/src/objective/regression_obj.cu:203: reg:linear is now deprecated in favor of reg:squarederror.\n",
      "[16:22:57] WARNING: C:/Users/administrator/workspace/xgboost-win64_release_1.6.0/src/learner.cc:627: \n",
      "Parameters: { \"silent\" } might not be used.\n",
      "\n",
      "  This could be a false alarm, with some parameters getting used by language bindings but\n",
      "  then being mistakenly passed down to XGBoost core, or some parameter actually being used\n",
      "  but getting flagged wrongly here. Please open an issue if you find any such cases.\n",
      "\n",
      "\n",
      "0.1608499337590855\n",
      "0.8557482048179502\n",
      "{'colsample_bytree': 0.8, 'gamma': 0.3, 'learning_rate': 0.05, 'max_depth': 5, 'min_child_weight': 4, 'n_estimators': 500, 'objective': 'reg:linear', 'silent': 1, 'subsample': 0.5}\n"
     ]
    }
   ],
   "source": [
    "xgb1 = XGBR()\n",
    "parameters = {\n",
    "    'objective':['reg:linear'],\n",
    "    'learning_rate':[.03, .05, .07],\n",
    "    'max_depth':[2, 3, 5, 6, 7],\n",
    "    'min_child_weight':[4],\n",
    "    'silent':[1],\n",
    "    'subsample':[i/10.0 for i in range(4,9)],\n",
    "    'colsample_bytree':[i/10.0 for i in range(4,9)],\n",
    "    'n_estimators':[500],\n",
    "    'gamma':[i/10.0 for i in range(3,6)],\n",
    "}\n",
    "\n",
    "xgb_grid = GridSearchCV(xgb1, parameters, cv=2, n_jobs=5, verbose=True)\n",
    "xgb_grid.fit(train_data, train_label)\n",
    "prediction = xgb_grid.predict(test_data)\n",
    "#rmse score with best parameters\n",
    "print(rmse(prediction, test_label))\n",
    "#best score achieved in GridSearch\n",
    "print(xgb_grid.best_score_)\n",
    "#best parameters found by gridsearch\n",
    "print(xgb_grid.best_params_)"
   ]
  },
  {
   "cell_type": "code",
   "execution_count": 54,
   "id": "566b9c69",
   "metadata": {},
   "outputs": [
    {
     "name": "stdout",
     "output_type": "stream",
     "text": [
      "rmse score: \n",
      "0.1491320834957308\n",
      "best score: \n",
      "-0.017353735410533346\n",
      "best parameters: \n",
      "{'alpha': 0.001}\n"
     ]
    }
   ],
   "source": [
    "params_dict = {\n",
    "        'alpha':[0.001, 0.005, 0.01,0.05,0.1,0.5,1]\n",
    "      }\n",
    "reg_lasso_cv = GridSearchCV(estimator=Lasso(), param_grid=params_dict, scoring='neg_mean_squared_error', cv=10)\n",
    "reg_lasso_cv.fit(train_data,train_label)\n",
    "prediction = reg_lasso_cv.predict(test_data)\n",
    "print('rmse score: ')\n",
    "print(rmse(prediction, test_label))\n",
    "print('best score: ')\n",
    "print(reg_lasso_cv.best_score_)\n",
    "print('best parameters: ')\n",
    "print(reg_lasso_cv.best_params_)"
   ]
  },
  {
   "cell_type": "code",
   "execution_count": 55,
   "id": "d9416182",
   "metadata": {},
   "outputs": [
    {
     "name": "stdout",
     "output_type": "stream",
     "text": [
      "[17:50:30] WARNING: C:/Users/administrator/workspace/xgboost-win64_release_1.6.0/src/learner.cc:627: \n",
      "Parameters: { \"silent\" } might not be used.\n",
      "\n",
      "  This could be a false alarm, with some parameters getting used by language bindings but\n",
      "  then being mistakenly passed down to XGBoost core, or some parameter actually being used\n",
      "  but getting flagged wrongly here. Please open an issue if you find any such cases.\n",
      "\n",
      "\n",
      "[17:50:34] WARNING: C:/Users/administrator/workspace/xgboost-win64_release_1.6.0/src/learner.cc:627: \n",
      "Parameters: { \"silent\" } might not be used.\n",
      "\n",
      "  This could be a false alarm, with some parameters getting used by language bindings but\n",
      "  then being mistakenly passed down to XGBoost core, or some parameter actually being used\n",
      "  but getting flagged wrongly here. Please open an issue if you find any such cases.\n",
      "\n",
      "\n",
      "[17:50:38] WARNING: C:/Users/administrator/workspace/xgboost-win64_release_1.6.0/src/learner.cc:627: \n",
      "Parameters: { \"silent\" } might not be used.\n",
      "\n",
      "  This could be a false alarm, with some parameters getting used by language bindings but\n",
      "  then being mistakenly passed down to XGBoost core, or some parameter actually being used\n",
      "  but getting flagged wrongly here. Please open an issue if you find any such cases.\n",
      "\n",
      "\n",
      "[17:50:42] WARNING: C:/Users/administrator/workspace/xgboost-win64_release_1.6.0/src/learner.cc:627: \n",
      "Parameters: { \"silent\" } might not be used.\n",
      "\n",
      "  This could be a false alarm, with some parameters getting used by language bindings but\n",
      "  then being mistakenly passed down to XGBoost core, or some parameter actually being used\n",
      "  but getting flagged wrongly here. Please open an issue if you find any such cases.\n",
      "\n",
      "\n",
      "[17:50:46] WARNING: C:/Users/administrator/workspace/xgboost-win64_release_1.6.0/src/learner.cc:627: \n",
      "Parameters: { \"silent\" } might not be used.\n",
      "\n",
      "  This could be a false alarm, with some parameters getting used by language bindings but\n",
      "  then being mistakenly passed down to XGBoost core, or some parameter actually being used\n",
      "  but getting flagged wrongly here. Please open an issue if you find any such cases.\n",
      "\n",
      "\n",
      "[17:50:50] WARNING: C:/Users/administrator/workspace/xgboost-win64_release_1.6.0/src/learner.cc:627: \n",
      "Parameters: { \"silent\" } might not be used.\n",
      "\n",
      "  This could be a false alarm, with some parameters getting used by language bindings but\n",
      "  then being mistakenly passed down to XGBoost core, or some parameter actually being used\n",
      "  but getting flagged wrongly here. Please open an issue if you find any such cases.\n",
      "\n",
      "\n",
      "[17:50:55] WARNING: C:/Users/administrator/workspace/xgboost-win64_release_1.6.0/src/learner.cc:627: \n",
      "Parameters: { \"silent\" } might not be used.\n",
      "\n",
      "  This could be a false alarm, with some parameters getting used by language bindings but\n",
      "  then being mistakenly passed down to XGBoost core, or some parameter actually being used\n",
      "  but getting flagged wrongly here. Please open an issue if you find any such cases.\n",
      "\n",
      "\n",
      "[17:50:59] WARNING: C:/Users/administrator/workspace/xgboost-win64_release_1.6.0/src/learner.cc:627: \n",
      "Parameters: { \"silent\" } might not be used.\n",
      "\n",
      "  This could be a false alarm, with some parameters getting used by language bindings but\n",
      "  then being mistakenly passed down to XGBoost core, or some parameter actually being used\n",
      "  but getting flagged wrongly here. Please open an issue if you find any such cases.\n",
      "\n",
      "\n",
      "[17:51:03] WARNING: C:/Users/administrator/workspace/xgboost-win64_release_1.6.0/src/learner.cc:627: \n",
      "Parameters: { \"silent\" } might not be used.\n",
      "\n",
      "  This could be a false alarm, with some parameters getting used by language bindings but\n",
      "  then being mistakenly passed down to XGBoost core, or some parameter actually being used\n",
      "  but getting flagged wrongly here. Please open an issue if you find any such cases.\n",
      "\n",
      "\n",
      "[17:51:07] WARNING: C:/Users/administrator/workspace/xgboost-win64_release_1.6.0/src/learner.cc:627: \n",
      "Parameters: { \"silent\" } might not be used.\n",
      "\n",
      "  This could be a false alarm, with some parameters getting used by language bindings but\n",
      "  then being mistakenly passed down to XGBoost core, or some parameter actually being used\n",
      "  but getting flagged wrongly here. Please open an issue if you find any such cases.\n",
      "\n",
      "\n",
      "0.013717453872081559\n"
     ]
    }
   ],
   "source": [
    "#kfold cross validation with xgb\n",
    "kfold = KFold(n_splits = 10, shuffle=True)\n",
    "kfold_auc = list()\n",
    "for train_index, test_index in kfold.split(dataset):\n",
    "    X_train, y_train = dataset.iloc[train_index], label.iloc[train_index]\n",
    "    X_test, y_test = dataset.iloc[test_index], label.iloc[test_index]\n",
    "    StdScaler = MinMaxScaler()\n",
    "    X_train = StdScaler.fit_transform(X_train)\n",
    "    X_test = StdScaler.transform(X_test)\n",
    "    model = XGBR(colsample_bytree=0.4603,\n",
    "                 gamma=0.0468,\n",
    "                 learning_rate=0.05,\n",
    "                 max_depth=3,\n",
    "                 min_child_weight=1.7817,\n",
    "                 n_estimators=2200,\n",
    "                 reg_alpha=0.4640,\n",
    "                 reg_lambda=0.8571,\n",
    "                 subsample=0.5213,\n",
    "                 silent=1,\n",
    "                 random_state=7,\n",
    "                 nthread=-1)\n",
    "    model.fit(X_train, y_train)\n",
    "    predict = model.predict(X_test)\n",
    "    kfold_auc.append(mean_squared_error(predict, y_test))\n",
    "print(np.mean(kfold_auc))"
   ]
  },
  {
   "cell_type": "code",
   "execution_count": null,
   "id": "a9509b10",
   "metadata": {},
   "outputs": [],
   "source": []
  }
 ],
 "metadata": {
  "kernelspec": {
   "display_name": "Python 3 (ipykernel)",
   "language": "python",
   "name": "python3"
  },
  "language_info": {
   "codemirror_mode": {
    "name": "ipython",
    "version": 3
   },
   "file_extension": ".py",
   "mimetype": "text/x-python",
   "name": "python",
   "nbconvert_exporter": "python",
   "pygments_lexer": "ipython3",
   "version": "3.9.7"
  }
 },
 "nbformat": 4,
 "nbformat_minor": 5
}
